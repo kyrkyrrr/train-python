{
 "cells": [
  {
   "cell_type": "markdown",
   "metadata": {},
   "source": [
    "# 課題2\n",
    "## ・numpyを使う\n",
    "## ・実行時間の差を確認する\n",
    "## ・filter関数, sorted関数を使う"
   ]
  },
  {
   "cell_type": "markdown",
   "metadata": {},
   "source": [
    "### Q1. numpyとは？(調べて意味がわかればOKだからコピペでも可)"
   ]
  },
  {
   "cell_type": "markdown",
   "metadata": {},
   "source": [
    "### A 高水準の数学関数ライブラリを提供するPythonプログラミング言語の拡張モジュール.\n",
    "### (参考文献）\n",
    "### http://rest-term.com/archives/2999/\n"
   ]
  },
  {
   "cell_type": "markdown",
   "metadata": {},
   "source": [
    "### Q2. 以下のコードをnumpyを使ってリファクタリングする"
   ]
  },
  {
   "cell_type": "code",
   "execution_count": 1,
   "metadata": {},
   "outputs": [
    {
     "name": "stdout",
     "output_type": "stream",
     "text": [
      "[0.58395458496801267, 0.49942346834540619, 0.45682392754962958, 0.45419169576689944, 0.43201751649840003, 0.42268209969321924, 0.4108227175129836, 0.38348763307414441, 0.37457569507242439, 0.37421123150409391]\n",
      "[0.56867499216044348, 0.49252692503655859, 0.42025746103174422, 0.37620024568724109, 0.36919163706881475, 0.35542315801221475, 0.35446644140462819, 0.33241760285664318, 0.30905225205766246, 0.3009272571892716]\n",
      "[0.31182612188394138, 0.24869248650250445, 0.16682565274643432, 0.15078543604188924, 0.14636447385571622, 0.14590871235547354, 0.13985718745011866, 0.10454846663793051, 0.1026556261813059, 0.097060377092403949]\n",
      "[0.61209344902550678, 0.47757726117882349, 0.42765698915318456, 0.4048870958651597, 0.33169088706334854, 0.31887298660805719, 0.31327992403273458, 0.30656709817809397, 0.28042525690080128, 0.27386138723957248]\n",
      "[0.63129440982539364, 0.39389217908953961, 0.3937865171961209, 0.32790902973335195, 0.31785328917319849, 0.30020740346646635, 0.29790924396228047, 0.29288462534561371, 0.28914588754135356, 0.25033644169327757]\n",
      "[0.9651893542846619, 0.8908023021229049, 0.87971908372418595, 0.83139175810282118, 0.62365861979383408, 0.56931954968047938, 0.53115032760251157, 0.49777278858804086, 0.49681604897502368, 0.48583532632362364]\n",
      "[0.56481460447461607, 0.47805986426420849, 0.43622738753517781, 0.37054176146999035, 0.35608583632633345, 0.35485096649011966, 0.29275368907680932, 0.29171684978035739, 0.28453353356490452, 0.27216821403702257]\n",
      "[0.90520868486721318, 0.8996298325502855, 0.87971908372418595, 0.87470630298118512, 0.76684357799432556, 0.74085167649671824, 0.69296736499091593, 0.68359004868951356, 0.60166521824052388, 0.55048128800211482]\n",
      "[0.71338148060737006, 0.68725265599097973, 0.59658864671847611, 0.54473731109094048, 0.52443734329086134, 0.51905606043443597, 0.4912552680437835, 0.41410363628214486, 0.35488413020785337, 0.34183591096441779]\n",
      "[0.61209344902550678, 0.53892780402953411, 0.49566509486718513, 0.43348753627799075, 0.39027195467503084, 0.36720755279220052, 0.31133383603094755, 0.29275368907680932, 0.2773573916691372, 0.27531272814557473]\n",
      "1.3052411079406738sec\n"
     ]
    }
   ],
   "source": [
    "import time\n",
    "import numpy as np\n",
    "\n",
    "def input_sample():\n",
    "    u_list = []\n",
    "    f = open('./input/sample_work01.csv')\n",
    "    for index,value in enumerate(f):\n",
    "        if index == 100:\n",
    "            break\n",
    "        u_list.append(value[:-1].split(','))\n",
    "    return u_list\n",
    "\n",
    "def cal_vector(u_list):\n",
    "    sim_all = []\n",
    "    for u_index,u_vector in enumerate(u_list):\n",
    "        sim_list = []\n",
    "        value1 = vector(u_vector)\n",
    "        for up_index,up_vector in enumerate(u_list):\n",
    "            if u_index == up_index:\n",
    "                sim_list.append(0)\n",
    "                continue\n",
    "            value2 = vector(up_vector)\n",
    "            value3 = product(u_vector, up_vector)\n",
    "            sim_list.append(value3/(value1 * value2))\n",
    "        sim_all.append(sim_list)\n",
    "    return sim_all        \n",
    "            \n",
    "def vector(u_vector):\n",
    "    vv = 0\n",
    "    for vec in u_vector:\n",
    "        vv += float(vec)**2\n",
    "    return np.sqrt(vv)\n",
    "\n",
    "def product(u_vector,up_vector):\n",
    "    vv2 = 0\n",
    "    for u_index,u_value in enumerate(u_vector):\n",
    "        vv2 += float(u_value) * float(up_vector[u_index])\n",
    "    return vv2\n",
    "\n",
    "def output_top10(sim):\n",
    "    for index, sim_list in enumerate(sim):\n",
    "        if index == 10: break\n",
    "        print(sorted(sim_list, reverse=True)[:10])\n",
    "\n",
    "def run():\n",
    "    u_list = input_sample()\n",
    "    sim = cal_vector(u_list)\n",
    "    output_top10(sim)\n"
   ]
  },
  {
   "cell_type": "markdown",
   "metadata": {},
   "source": [
    "### A 以下にコードを書く"
   ]
  },
  {
   "cell_type": "code",
   "execution_count": 12,
   "metadata": {},
   "outputs": [
    {
     "name": "stdout",
     "output_type": "stream",
     "text": [
      "[0.58395458496801267, 0.49942346834540619, 0.45682392754962958, 0.45419169576689944, 0.43201751649840003, 0.42268209969321907, 0.4108227175129836, 0.38348763307414446, 0.37457569507242439, 0.37421123150409391]\n",
      "[0.56867499216044382, 0.4925269250365587, 0.42025746103174438, 0.37620024568724114, 0.36919163706881492, 0.35542315801221486, 0.3544664414046283, 0.33241760285664335, 0.30905225205766257, 0.3009272571892716]\n",
      "[0.31182612188394138, 0.24869248650250439, 0.16682565274643432, 0.15078543604188924, 0.14636447385571622, 0.14590871235547354, 0.13985718745011866, 0.10454846663793049, 0.1026556261813059, 0.097060377092403949]\n",
      "[0.61209344902550678, 0.47757726117882349, 0.42765698915318462, 0.4048870958651597, 0.33169088706334854, 0.31887298660805713, 0.31327992403273452, 0.30656709817809402, 0.28042525690080122, 0.27386138723957254]\n",
      "[0.63129440982539364, 0.39389217908953961, 0.39378651719612096, 0.32790902973335206, 0.31785328917319849, 0.30020740346646635, 0.29790924396228047, 0.29288462534561371, 0.28914588754135362, 0.25033644169327757]\n",
      "[0.96518935428466224, 0.89080230212290501, 0.87971908372418606, 0.8313917581028214, 0.62365861979383419, 0.5693195496804796, 0.53115032760251168, 0.49777278858804097, 0.49681604897502379, 0.48583532632362375]\n",
      "[0.56481460447461607, 0.4780598642642086, 0.43622738753517781, 0.37054176146999035, 0.35608583632633339, 0.35485096649011966, 0.29275368907680938, 0.29171684978035739, 0.28453353356490452, 0.27216821403702257]\n",
      "[0.90520868486721318, 0.89962983255028561, 0.87971908372418606, 0.87470630298118512, 0.76684357799432556, 0.74085167649671824, 0.69296736499091605, 0.68359004868951356, 0.60166521824052388, 0.55048128800211493]\n",
      "[0.71338148060737006, 0.68725265599097973, 0.59658864671847611, 0.54473731109094059, 0.52443734329086134, 0.51905606043443608, 0.4912552680437835, 0.41410363628214486, 0.35488413020785337, 0.34183591096441784]\n",
      "[0.61209344902550678, 0.53892780402953411, 0.49566509486718507, 0.43348753627799086, 0.39027195467503079, 0.36720755279220046, 0.3113338360309475, 0.29275368907680938, 0.2773573916691372, 0.27531272814557478]\n",
      "15.190191984176636sec\n"
     ]
    }
   ],
   "source": [
    "import time\n",
    "import numpy as np\n",
    "\n",
    "def input_sample():\n",
    "    u_list = np.loadtxt('./input/sample_work01.csv', delimiter=',')\n",
    "    u_list = u_list[0:100]\n",
    "    return u_list\n",
    "\n",
    "def cal_vector(u_list):\n",
    "    sim_all = []\n",
    "    for u_index,u_vector in enumerate(u_list):\n",
    "        sim_list = []\n",
    "        value1 = np.linalg.norm(u_vector)\n",
    "        for up_index,up_vector in enumerate(u_list):\n",
    "            if u_index == up_index:\n",
    "                sim_list.append(0)\n",
    "                continue\n",
    "            value2 = np.linalg.norm(up_vector)\n",
    "            value3 = np.inner(u_vector, up_vector)\n",
    "            sim_list.append(value3/(value1 * value2))\n",
    "        sim_all.append(sim_list)\n",
    "    return sim_all        \n",
    "\n",
    "def output_top10(sim):\n",
    "    for index, sim_list in enumerate(sim):\n",
    "        if index == 10: break\n",
    "        print(sorted(sim_list, reverse=True)[:10])\n",
    "\n",
    "def run():\n",
    "    u_list = input_sample()\n",
    "    sim = cal_vector(u_list)\n",
    "    output_top10(sim)\n",
    "\n",
    "if __name__=='__main__':\n",
    "    start = time.time()\n",
    "    run()\n",
    "    print('{}sec'.format(time.time()-start))"
   ]
  },
  {
   "cell_type": "markdown",
   "metadata": {},
   "source": [
    "### Q3. numpyを使っていないコードと使ったコードの実行時間の差を調べる\n",
    "* マジックコマンドを使う(「jupyter マジックコマンド 実行時間」とかで調べると出ると思う)"
   ]
  },
  {
   "cell_type": "code",
   "execution_count": 7,
   "metadata": {},
   "outputs": [
    {
     "name": "stdout",
     "output_type": "stream",
     "text": [
      "50.8 ns ± 1.11 ns per loop (mean ± std. dev. of 7 runs, 10000000 loops each)\n"
     ]
    }
   ],
   "source": [
    "# numpyを使っていないコードの実行時間\n",
    "%timeit In[1]"
   ]
  },
  {
   "cell_type": "code",
   "execution_count": 8,
   "metadata": {},
   "outputs": [
    {
     "name": "stdout",
     "output_type": "stream",
     "text": [
      "54.3 ns ± 2.73 ns per loop (mean ± std. dev. of 7 runs, 10000000 loops each)\n"
     ]
    }
   ],
   "source": [
    "# numpyを使ったコードの実行時間\n",
    "%timeit In[2]"
   ]
  },
  {
   "cell_type": "markdown",
   "metadata": {},
   "source": [
    "### Q4. 以下の問題を解け"
   ]
  },
  {
   "cell_type": "markdown",
   "metadata": {},
   "source": [
    "#### Q4-1.  sample_1から奇数だけ取り出せ(filter関数を使う)"
   ]
  },
  {
   "cell_type": "code",
   "execution_count": 2,
   "metadata": {},
   "outputs": [],
   "source": [
    "sample_1 = [i for i in range(10)]"
   ]
  },
  {
   "cell_type": "code",
   "execution_count": 3,
   "metadata": {},
   "outputs": [
    {
     "data": {
      "text/plain": [
       "[0, 1, 2, 3, 4, 5, 6, 7, 8, 9]"
      ]
     },
     "execution_count": 3,
     "metadata": {},
     "output_type": "execute_result"
    }
   ],
   "source": [
    "sample_1"
   ]
  },
  {
   "cell_type": "code",
   "execution_count": 4,
   "metadata": {},
   "outputs": [
    {
     "data": {
      "text/plain": [
       "[1, 3, 5, 7, 9]"
      ]
     },
     "execution_count": 4,
     "metadata": {},
     "output_type": "execute_result"
    }
   ],
   "source": [
    "# 1行で解答\n",
    "list(filter(lambda x: x % 2 == 1, sample_1))"
   ]
  },
  {
   "cell_type": "markdown",
   "metadata": {},
   "source": [
    "#### Q4-2.  sample_2から2と5を取り出せ(filter関数を使う)"
   ]
  },
  {
   "cell_type": "code",
   "execution_count": 5,
   "metadata": {},
   "outputs": [],
   "source": [
    "sample_2 = [i for i in range(10)]"
   ]
  },
  {
   "cell_type": "code",
   "execution_count": 6,
   "metadata": {},
   "outputs": [
    {
     "data": {
      "text/plain": [
       "[0, 1, 2, 3, 4, 5, 6, 7, 8, 9]"
      ]
     },
     "execution_count": 6,
     "metadata": {},
     "output_type": "execute_result"
    }
   ],
   "source": [
    "sample_2"
   ]
  },
  {
   "cell_type": "code",
   "execution_count": 7,
   "metadata": {},
   "outputs": [
    {
     "data": {
      "text/plain": [
       "[2, 5]"
      ]
     },
     "execution_count": 7,
     "metadata": {},
     "output_type": "execute_result"
    }
   ],
   "source": [
    "# 1行で解答\n",
    "list(filter(lambda x: x == 2 or x == 5, sample_2))"
   ]
  },
  {
   "cell_type": "markdown",
   "metadata": {},
   "source": [
    "#### Q4-3.  sample_3を昇順にせよ(sorted関数を使う)"
   ]
  },
  {
   "cell_type": "code",
   "execution_count": 8,
   "metadata": {},
   "outputs": [],
   "source": [
    "sample_3 = [9, 1, 5, 12, 3]"
   ]
  },
  {
   "cell_type": "code",
   "execution_count": 9,
   "metadata": {},
   "outputs": [
    {
     "data": {
      "text/plain": [
       "[9, 1, 5, 12, 3]"
      ]
     },
     "execution_count": 9,
     "metadata": {},
     "output_type": "execute_result"
    }
   ],
   "source": [
    "sample_3"
   ]
  },
  {
   "cell_type": "code",
   "execution_count": 10,
   "metadata": {},
   "outputs": [
    {
     "data": {
      "text/plain": [
       "[1, 3, 5, 9, 12]"
      ]
     },
     "execution_count": 10,
     "metadata": {},
     "output_type": "execute_result"
    }
   ],
   "source": [
    "# 1行で解答\n",
    "sorted(sample_3)"
   ]
  },
  {
   "cell_type": "markdown",
   "metadata": {},
   "source": [
    "#### Q4-4.  sample_4を降順にせよ(sorted関数を使う)"
   ]
  },
  {
   "cell_type": "code",
   "execution_count": 11,
   "metadata": {},
   "outputs": [],
   "source": [
    "sample_4 = [9, 1, 5, 12, 3]"
   ]
  },
  {
   "cell_type": "code",
   "execution_count": 12,
   "metadata": {},
   "outputs": [
    {
     "data": {
      "text/plain": [
       "[9, 1, 5, 12, 3]"
      ]
     },
     "execution_count": 12,
     "metadata": {},
     "output_type": "execute_result"
    }
   ],
   "source": [
    "sample_4"
   ]
  },
  {
   "cell_type": "code",
   "execution_count": 13,
   "metadata": {},
   "outputs": [
    {
     "data": {
      "text/plain": [
       "[12, 9, 5, 3, 1]"
      ]
     },
     "execution_count": 13,
     "metadata": {},
     "output_type": "execute_result"
    }
   ],
   "source": [
    "# 1行で解答\n",
    "sorted(sample_4, reverse=True)"
   ]
  }
 ],
 "metadata": {
  "kernelspec": {
   "display_name": "Python 3",
   "language": "python",
   "name": "python3"
  },
  "language_info": {
   "codemirror_mode": {
    "name": "ipython",
    "version": 3
   },
   "file_extension": ".py",
   "mimetype": "text/x-python",
   "name": "python",
   "nbconvert_exporter": "python",
   "pygments_lexer": "ipython3",
   "version": "3.5.2"
  }
 },
 "nbformat": 4,
 "nbformat_minor": 2
}
