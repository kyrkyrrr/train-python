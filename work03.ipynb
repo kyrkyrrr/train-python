{
 "cells": [
  {
   "cell_type": "markdown",
   "metadata": {},
   "source": [
    "# 課題2\n",
    "## ・入力データを加工する\n",
    "## ・クラスの書き方を知る"
   ]
  },
  {
   "cell_type": "markdown",
   "metadata": {},
   "source": [
    "### Q1-1. pythonのクラスで全ての関数に渡す引数とは？(調べて意味がわかればOKだからコピペでも可)"
   ]
  },
  {
   "cell_type": "markdown",
   "metadata": {},
   "source": [
    "### A.self"
   ]
  },
  {
   "cell_type": "markdown",
   "metadata": {},
   "source": [
    "### Q1-2. pythonのクラスのpublicとprivateの違いは？(調べて意味がわかればOKだからコピペでも可)"
   ]
  },
  {
   "cell_type": "markdown",
   "metadata": {},
   "source": [
    "### A.publicは,オブジェクトから直接呼び出すことが出来るが, privateはオブジェクトから直接呼び出すことが出来ない．"
   ]
  },
  {
   "cell_type": "markdown",
   "metadata": {},
   "source": [
    "### Q2. sample_work03をUIDごとにベクトルに加工せよ"
   ]
  },
  {
   "cell_type": "markdown",
   "metadata": {},
   "source": [
    "* 入力データの概要\n",
    "あるサイトの閲覧データ\n",
    "\n",
    "* 入力データのカラム  \n",
    "date(いつ見たか),UID,click(クリックしたかどうか),url(どのページを見たか),regionCode,city(どの場所で見たか),k_page,vec\n",
    "\n",
    "* 入力データ1行  \n",
    "2016-10-02 07:25:47 UTC,c78f43460484d92831660d66818e6417b0cb39c8b6359f03906703467d99be6f,1,https://passnavi.evidus.com/search_univ/2910/ao.html,8,hitachiota,p14,0:0:0:0:1\n",
    "\n",
    "* 変換後のベクトル  \n",
    "0次元目 → click(1 or 0)  \n",
    "1次元目 → dateのmonth(10 or 11 or 12 or 1 or 2) 空の場合 → 13  \n",
    "2 ~ 18次元目 → どのページかのダミー変数(見たページが1、それ以外は0)\n",
    "19 ~ 118次元目 → どの町かのダミー変数(見た場所が1、それ以外は0)\n",
    "119次元目 → 1の個数  \n",
    "  \n",
    "[1, 10, 1, 0, 0, 0, 0, 0, 0, 0, 0, 0, 0, 0, 0, 0, 0, 0, 0, 0, 0, 0, 0, 0, 0, 0, 0, 0, 0, 0, 0, 0, 0, 0, 0, 0, 0, 0, 1, 0, 0, 0, 0, 0, 0, 0, 0, 0, 0, 0, 0, 0, 0, 0, 0, 0, 0, 0, 0, 0, 0, 0, 0, 0, 0, 0, 0, 0, 0, 0, 0, 0, 0, 0, 0, 0, 0, 0, 0, 0, 0, 0, 0, 0, 0, 0, 0, 0, 0, 0, 0, 0, 0, 0, 0, 0, 0, 0, 0, 0, 0, 0, 0, 0, 0, 0, 0, 0, 0, 0, 0, 0, 0, 0, 0, 0, 0, 0, 1]"
   ]
  },
  {
   "cell_type": "markdown",
   "metadata": {},
   "source": [
    "### A 以下にコードを書く\n",
    "* 一応、必要そうな関数のヒントを書いてあるけど、その通りに関数定義しなくても大丈夫\n",
    "* collectionsライブラリは便利だから使ってみて"
   ]
  },
  {
   "cell_type": "markdown",
   "metadata": {},
   "source": [
    "* 前処理"
   ]
  },
  {
   "cell_type": "code",
   "execution_count": 543,
   "metadata": {},
   "outputs": [],
   "source": [
    "import numpy as np\n",
    "def generate_dic():\n",
    "    city_dic = dict()\n",
    "    html_dic = dict()\n",
    "    html_sets = set()\n",
    "    city_sets = set()\n",
    "    with open('./input/sample_work03.csv')as f:\n",
    "        f.readline()\n",
    "        for line in f:\n",
    "            elements = line[:-1].split(',')\n",
    "            date = elements[0]\n",
    "            html = elements[3]\n",
    "            index = html.split('/')[5].find('.html')\n",
    "            html_sets.add(html.split('/')[5][:index])\n",
    "            city = elements[5]\n",
    "            city_sets.add(city if city != '' else '?')\n",
    "        \n",
    "        for i, v in enumerate(sorted(list(city_sets))):\n",
    "            city_dic[v] = i\n",
    "        for i, v in enumerate(sorted(list(html_sets))):\n",
    "            html_dic[v] = i\n",
    "    return  city_dic, html_dic"
   ]
  },
  {
   "cell_type": "code",
   "execution_count": 544,
   "metadata": {},
   "outputs": [
    {
     "data": {
      "text/plain": [
       "({'?': 0,\n",
       "  'adachi': 1,\n",
       "  'ageo': 2,\n",
       "  'aomori': 3,\n",
       "  'asaka': 4,\n",
       "  'chiba': 5,\n",
       "  'chiyoda': 6,\n",
       "  'chofu': 7,\n",
       "  'chuo': 8,\n",
       "  'edogawa': 9,\n",
       "  'fuchu': 10,\n",
       "  'fujieda': 11,\n",
       "  'fujimino': 12,\n",
       "  'fukuoka': 13,\n",
       "  'funabashi': 14,\n",
       "  'hachinohe': 15,\n",
       "  'hachioji': 16,\n",
       "  'hamamatsu': 17,\n",
       "  'higashikurume': 18,\n",
       "  'hitachiota': 19,\n",
       "  'ichikawa': 20,\n",
       "  'ichinoseki iwate': 21,\n",
       "  'iida': 22,\n",
       "  'iruma': 23,\n",
       "  'isesaki': 24,\n",
       "  'itabashi': 25,\n",
       "  'joso': 26,\n",
       "  'kanazawa': 27,\n",
       "  'kashiwa': 28,\n",
       "  'kasukabe': 29,\n",
       "  'katsushika': 30,\n",
       "  'kawagoe': 31,\n",
       "  'kawaguchi': 32,\n",
       "  'kawasaki': 33,\n",
       "  'kazo': 34,\n",
       "  'kiryu': 35,\n",
       "  'kita': 36,\n",
       "  'kitakami': 37,\n",
       "  'kitakyushu': 38,\n",
       "  'kobe': 39,\n",
       "  'kodaira': 40,\n",
       "  'kofu': 41,\n",
       "  'koga': 42,\n",
       "  'koshigaya': 43,\n",
       "  'koto': 44,\n",
       "  'kuki': 45,\n",
       "  'kurayoshi': 46,\n",
       "  'kurume': 47,\n",
       "  'kyoto': 48,\n",
       "  'machida': 49,\n",
       "  'maebashi': 50,\n",
       "  'matsumoto': 51,\n",
       "  'minato': 52,\n",
       "  'misato': 53,\n",
       "  'mitaka': 54,\n",
       "  'morioka': 55,\n",
       "  'nagano': 56,\n",
       "  'nagasaki': 57,\n",
       "  'nagoya': 58,\n",
       "  'nakano': 59,\n",
       "  'narashino': 60,\n",
       "  'narita': 61,\n",
       "  'nerima': 62,\n",
       "  'neyagawa': 63,\n",
       "  'niigata': 64,\n",
       "  'nikko': 65,\n",
       "  'nishitokyo': 66,\n",
       "  'numazu': 67,\n",
       "  'oga': 68,\n",
       "  'omachi': 69,\n",
       "  'ome': 70,\n",
       "  'osaka': 71,\n",
       "  'ota': 72,\n",
       "  'oyama': 73,\n",
       "  'sagamihara': 74,\n",
       "  'saitama': 75,\n",
       "  'sakata': 76,\n",
       "  'sapporo': 77,\n",
       "  'sendai': 78,\n",
       "  'setagaya': 79,\n",
       "  'shibukawa': 80,\n",
       "  'shibuya': 81,\n",
       "  'shinagawa': 82,\n",
       "  'shinjuku': 83,\n",
       "  'tachikawa': 84,\n",
       "  'taito': 85,\n",
       "  'takanezawa': 86,\n",
       "  'takasaki': 87,\n",
       "  'tochigi': 88,\n",
       "  'toshima': 89,\n",
       "  'tsukuba': 90,\n",
       "  'tsuruoka': 91,\n",
       "  'ueda': 92,\n",
       "  'utsunomiya': 93,\n",
       "  'wako': 94,\n",
       "  'yamagata': 95,\n",
       "  'yao': 96,\n",
       "  'yokohama': 97,\n",
       "  'yonezawa': 98},\n",
       " {'ao': 0,\n",
       "  'bairitsu': 1,\n",
       "  'border': 2,\n",
       "  'campus': 3,\n",
       "  'center': 4,\n",
       "  'department': 5,\n",
       "  'difficulty': 6,\n",
       "  'eiken': 7,\n",
       "  'expense': 8,\n",
       "  'ippan': 9,\n",
       "  'kakomon': 10,\n",
       "  'license': 11,\n",
       "  'opencampus': 12,\n",
       "  'seikyu': 13,\n",
       "  'shinro': 14,\n",
       "  'suisen': 15,\n",
       "  'trend': 16})"
      ]
     },
     "execution_count": 544,
     "metadata": {},
     "output_type": "execute_result"
    }
   ],
   "source": [
    "generate_dic()"
   ]
  },
  {
   "cell_type": "markdown",
   "metadata": {},
   "source": [
    "* dateから月を抽出する関数(Ex. '2016-10-02 07:25:47 UTC' → 10, 空の場合 → 13)  \n",
    "ポイント：datetimeを使う"
   ]
  },
  {
   "cell_type": "code",
   "execution_count": 545,
   "metadata": {},
   "outputs": [],
   "source": [
    "import datetime\n",
    "def trans_date(string_date):\n",
    "    date = string_date.split(' UTC')[0]\n",
    "    if date==' ':\n",
    "        return(13)\n",
    "    else:\n",
    "        dt = datetime.datetime.strptime(date, '%Y-%m-%d %H:%M:%S') # => datetime.datetime(2017, 7, 1, 12, 6, 19\n",
    "    return(dt.month)"
   ]
  },
  {
   "cell_type": "code",
   "execution_count": 546,
   "metadata": {},
   "outputs": [
    {
     "name": "stdout",
     "output_type": "stream",
     "text": [
      "2016-10-02 07:25:47\n"
     ]
    },
    {
     "data": {
      "text/plain": [
       "10"
      ]
     },
     "execution_count": 546,
     "metadata": {},
     "output_type": "execute_result"
    }
   ],
   "source": [
    "month('2016-10-02 07:25:47 UTC')"
   ]
  },
  {
   "cell_type": "markdown",
   "metadata": {},
   "source": [
    "* clickをint型で返す関数(Ex.'1' → 1, 空の場合 → 0)"
   ]
  },
  {
   "cell_type": "code",
   "execution_count": 547,
   "metadata": {},
   "outputs": [],
   "source": [
    "def trans_click(click_value):\n",
    "    if click_value=='1':\n",
    "        return(1)\n",
    "    else:\n",
    "        return(0)"
   ]
  },
  {
   "cell_type": "code",
   "execution_count": 548,
   "metadata": {},
   "outputs": [
    {
     "data": {
      "text/plain": [
       "1"
      ]
     },
     "execution_count": 548,
     "metadata": {},
     "output_type": "execute_result"
    }
   ],
   "source": [
    "click('1')"
   ]
  },
  {
   "cell_type": "markdown",
   "metadata": {},
   "source": [
    "* urlからページの種類をダミー変数に変換する関数  \n",
    "ページは昇順で変換する"
   ]
  },
  {
   "cell_type": "code",
   "execution_count": 549,
   "metadata": {},
   "outputs": [],
   "source": [
    "def trans_html(url_data, html_dic):\n",
    "    index = url_data.split('/')[5].find('.html')\n",
    "    number = html_dic[url_data.split('/')[5][:index]]\n",
    "    #print(html_dic)\n",
    "    #print(number)\n",
    "    return trans_dummy_value(len(html_dic), number)"
   ]
  },
  {
   "cell_type": "code",
   "execution_count": 550,
   "metadata": {},
   "outputs": [
    {
     "data": {
      "text/plain": [
       "[0, 0, 0, 0, 0, 0, 0, 0, 0, 1, 0, 0, 0, 0, 0, 0, 0]"
      ]
     },
     "execution_count": 550,
     "metadata": {},
     "output_type": "execute_result"
    }
   ],
   "source": [
    "trans_html('https://passnavi.evidus.com/search_univ/2910/ippan.html',generate_dic()[1])"
   ]
  },
  {
   "cell_type": "markdown",
   "metadata": {},
   "source": [
    "* cityから町の種類をダミー変数に変換する関数  \n",
    "町名は昇順で変換する"
   ]
  },
  {
   "cell_type": "code",
   "execution_count": 551,
   "metadata": {},
   "outputs": [],
   "source": [
    "def trans_city(city_data, city_dic):\n",
    "    number = city_dic[city_data]\n",
    "    #print(city_dic)\n",
    "    #print(number)\n",
    "    return trans_dummy_value(len(city_dic), number)"
   ]
  },
  {
   "cell_type": "code",
   "execution_count": 552,
   "metadata": {
    "scrolled": true
   },
   "outputs": [
    {
     "data": {
      "text/plain": [
       "[0,\n",
       " 0,\n",
       " 0,\n",
       " 0,\n",
       " 0,\n",
       " 0,\n",
       " 0,\n",
       " 0,\n",
       " 0,\n",
       " 0,\n",
       " 0,\n",
       " 0,\n",
       " 0,\n",
       " 0,\n",
       " 0,\n",
       " 0,\n",
       " 0,\n",
       " 0,\n",
       " 0,\n",
       " 0,\n",
       " 0,\n",
       " 0,\n",
       " 0,\n",
       " 0,\n",
       " 0,\n",
       " 0,\n",
       " 0,\n",
       " 0,\n",
       " 0,\n",
       " 0,\n",
       " 0,\n",
       " 0,\n",
       " 0,\n",
       " 0,\n",
       " 1,\n",
       " 0,\n",
       " 0,\n",
       " 0,\n",
       " 0,\n",
       " 0,\n",
       " 0,\n",
       " 0,\n",
       " 0,\n",
       " 0,\n",
       " 0,\n",
       " 0,\n",
       " 0,\n",
       " 0,\n",
       " 0,\n",
       " 0,\n",
       " 0,\n",
       " 0,\n",
       " 0,\n",
       " 0,\n",
       " 0,\n",
       " 0,\n",
       " 0,\n",
       " 0,\n",
       " 0,\n",
       " 0,\n",
       " 0,\n",
       " 0,\n",
       " 0,\n",
       " 0,\n",
       " 0,\n",
       " 0,\n",
       " 0,\n",
       " 0,\n",
       " 0,\n",
       " 0,\n",
       " 0,\n",
       " 0,\n",
       " 0,\n",
       " 0,\n",
       " 0,\n",
       " 0,\n",
       " 0,\n",
       " 0,\n",
       " 0,\n",
       " 0,\n",
       " 0,\n",
       " 0,\n",
       " 0,\n",
       " 0,\n",
       " 0,\n",
       " 0,\n",
       " 0,\n",
       " 0,\n",
       " 0,\n",
       " 0,\n",
       " 0,\n",
       " 0,\n",
       " 0,\n",
       " 0,\n",
       " 0,\n",
       " 0,\n",
       " 0,\n",
       " 0,\n",
       " 0]"
      ]
     },
     "execution_count": 552,
     "metadata": {},
     "output_type": "execute_result"
    }
   ],
   "source": [
    "trans_city('kazo', generate_dic()[0])"
   ]
  },
  {
   "cell_type": "markdown",
   "metadata": {},
   "source": [
    "* 5つ数字から1の個数を返す関数(Ex.'0:0:0:0:1' → 1, '1:0:1:0:0' → 2)"
   ]
  },
  {
   "cell_type": "code",
   "execution_count": 553,
   "metadata": {},
   "outputs": [],
   "source": [
    "from collections import Counter\n",
    "def trans_numl(figures):\n",
    "    c = Counter(figures)\n",
    "    return c['1']"
   ]
  },
  {
   "cell_type": "code",
   "execution_count": 554,
   "metadata": {},
   "outputs": [
    {
     "data": {
      "text/plain": [
       "2"
      ]
     },
     "execution_count": 554,
     "metadata": {},
     "output_type": "execute_result"
    }
   ],
   "source": [
    "a = ['0','0','0','1','1']\n",
    "trans_numl(a)"
   ]
  },
  {
   "cell_type": "markdown",
   "metadata": {},
   "source": [
    "* ダミー変数に変換する関数"
   ]
  },
  {
   "cell_type": "code",
   "execution_count": 555,
   "metadata": {},
   "outputs": [],
   "source": [
    "def trans_dummy_value(num_dim, number):\n",
    "    dummy = []\n",
    "    for index in range(num_dim):\n",
    "        if number == index:\n",
    "            dummy.append(1)\n",
    "        else:\n",
    "            dummy.append(0)\n",
    "    return dummy"
   ]
  },
  {
   "cell_type": "markdown",
   "metadata": {},
   "source": [
    "* ベクトルを生成する関数"
   ]
  },
  {
   "cell_type": "code",
   "execution_count": 556,
   "metadata": {},
   "outputs": [],
   "source": [
    "def generate_vector(line, city_dic, html_dic):\n",
    "    vec = []\n",
    "    elements = line.split(',')\n",
    "    vec.append(trans_click(elements[2]))\n",
    "    vec.append(trans_date(elements[0]))\n",
    "    vec.extend(trans_html(elements[3], html_dic))\n",
    "    vec.extend(trans_city(elements[5], city_dic))\n",
    "    vec.append(trans_numl(elements[7]))\n",
    "    return vec"
   ]
  },
  {
   "cell_type": "markdown",
   "metadata": {},
   "source": [
    "* ouput/sample_work03.csvに出力する関数"
   ]
  },
  {
   "cell_type": "code",
   "execution_count": 557,
   "metadata": {},
   "outputs": [],
   "source": [
    "def output(vectors):\n",
    "    with open('./output/sample_work03.csv', 'w') as f:\n",
    "        for vec in vectors:\n",
    "            f.write(','.join(list(map(str, vec))) + '\\n')"
   ]
  },
  {
   "cell_type": "markdown",
   "metadata": {},
   "source": [
    "* 実行関数"
   ]
  },
  {
   "cell_type": "code",
   "execution_count": 539,
   "metadata": {},
   "outputs": [],
   "source": [
    "def run():\n",
    "    city_dic, html_dic = generate_dic()\n",
    "    vectors = []\n",
    "    with open('./input/sample_work03.csv') as f:\n",
    "        f.readline()\n",
    "        for line in f:\n",
    "            vectors.append(generate_vector(line[:-1], city_dic, html_dic))\n",
    "        output(vectors)"
   ]
  },
  {
   "cell_type": "code",
   "execution_count": 558,
   "metadata": {},
   "outputs": [],
   "source": [
    "run()"
   ]
  },
  {
   "cell_type": "markdown",
   "metadata": {},
   "source": [
    "* 答え合わせする関数  \n",
    "    * assert文は簡単にエラーチェックできるから調べてみて"
   ]
  },
  {
   "cell_type": "code",
   "execution_count": 559,
   "metadata": {},
   "outputs": [],
   "source": [
    "def answer_check():\n",
    "    ans_vectors = np.loadtxt('./output/answer_work03.csv', delimiter=',')\n",
    "    vectors = np.loadtxt('./output/sample_work03.csv', delimiter=',')\n",
    "    for index, vecs in enumerate(zip(vectors, ans_vectors)):\n",
    "        assert sum(vecs[0]) == sum(vecs[1]), '{}行目が違います'.format(index)"
   ]
  },
  {
   "cell_type": "code",
   "execution_count": 560,
   "metadata": {},
   "outputs": [],
   "source": [
    "answer_check()"
   ]
  },
  {
   "cell_type": "markdown",
   "metadata": {},
   "source": [
    "### Q3. Q2のコードをクラス化せよ"
   ]
  },
  {
   "cell_type": "markdown",
   "metadata": {},
   "source": [
    "### A 以下にコードを書く"
   ]
  },
  {
   "cell_type": "code",
   "execution_count": 687,
   "metadata": {},
   "outputs": [],
   "source": [
    "import numpy as np\n",
    "import datetime\n",
    "from collections import Counter\n",
    "\n",
    "class trans_vector:\n",
    "    \n",
    "    def __init__(self):\n",
    "        self.__city_dic, self.__html_dic = self.__generate_dic()\n",
    "        self.__num_city = len(self.__city_dic)\n",
    "        self.__num_html = len(self.__html_dic)\n",
    "    \n",
    "    def __generate_dic(self):\n",
    "        city_dic = dict()\n",
    "        html_dic = dict()\n",
    "        html_sets = set()\n",
    "        city_sets = set()\n",
    "        with open('./input/sample_work03.csv')as f:\n",
    "            f.readline()\n",
    "            for line in f:\n",
    "                elements = line[:-1].split(',')\n",
    "                date = elements[0]\n",
    "                html = elements[3]\n",
    "                index = html.split('/')[5].find('.html')\n",
    "                html_sets.add(html.split('/')[5][:index])\n",
    "                city = elements[5]\n",
    "                city_sets.add(city if city != '' else '?')\n",
    "\n",
    "            for i, v in enumerate(sorted(list(city_sets))):\n",
    "                city_dic[v] = i\n",
    "            for i, v in enumerate(sorted(list(html_sets))):\n",
    "                html_dic[v] = i\n",
    "        return  city_dic, html_dic\n",
    "\n",
    "    def __trans_date(self, string_date):\n",
    "        date = string_date.split(' UTC')[0]\n",
    "        if date==' ':\n",
    "            return(13)\n",
    "        else:\n",
    "            dt = datetime.datetime.strptime(date, '%Y-%m-%d %H:%M:%S') # => datetime.datetime(2017, 7, 1, 12, 6, 19\n",
    "        return(dt.month)\n",
    "\n",
    "    def __trans_click(self, click_value):\n",
    "        if click_value=='1':\n",
    "            return(1)\n",
    "        else:\n",
    "            return(0)\n",
    "    \n",
    "    def __trans_numl(self, figures):\n",
    "        c = Counter(figures)\n",
    "        return c['1']\n",
    "    \n",
    "    def __trans_dummy_value(self, num_dim, number):\n",
    "        dummy = []\n",
    "        for index in range(num_dim):\n",
    "            if number == index:\n",
    "                dummy.append(1)\n",
    "            else:\n",
    "                dummy.append(0)\n",
    "        return dummy\n",
    "    \n",
    "    def __trans_html(self, url_data):\n",
    "        index = url_data.split('/')[5].find('.html')\n",
    "        number = self.__html_dic[url_data.split('/')[5][:index]]\n",
    "        return self.__trans_dummy_value(self.__num_html, number)\n",
    "    \n",
    "    def __trans_city(self, city_data):\n",
    "        number = self.__city_dic[city_data]\n",
    "        return self.__trans_dummy_value(self.__num_city, number)\n",
    "\n",
    "    def generate_vector(self, line):\n",
    "        vec = []\n",
    "        elements = line.split(',')\n",
    "        vec.append(self.__trans_click(elements[2]))\n",
    "        vec.append(self.__trans_date(elements[0]))\n",
    "        vec.extend(self.__trans_html(elements[3]))\n",
    "        vec.extend(self.__trans_city(elements[5]))\n",
    "        vec.append(self.__trans_numl(elements[7]))\n",
    "        return vec\n",
    "\n",
    "    def output(self, vectors, file_name):\n",
    "        with open(file_name, 'w') as f:\n",
    "            for vec in vectors:\n",
    "                f.write(','.join(list(map(str, vec))) + '\\n')"
   ]
  },
  {
   "cell_type": "code",
   "execution_count": 767,
   "metadata": {},
   "outputs": [],
   "source": [
    "def run_class():\n",
    "    vectors = []\n",
    "    trans = trans_vector()\n",
    "    with open('./input/sample_work03.csv') as f:\n",
    "        f.readline()\n",
    "        for line in f:\n",
    "            vectors.append(trans.generate_vector(line[:-1]))\n",
    "        trans.output(vectors, './output/sample_work03_test1.csv')"
   ]
  },
  {
   "cell_type": "code",
   "execution_count": 768,
   "metadata": {},
   "outputs": [],
   "source": [
    "run_class()"
   ]
  },
  {
   "cell_type": "markdown",
   "metadata": {},
   "source": [
    "チェック"
   ]
  },
  {
   "cell_type": "code",
   "execution_count": 769,
   "metadata": {},
   "outputs": [],
   "source": [
    "def answer_check_class():\n",
    "    ans_vectors = np.loadtxt('./output/answer_work03.csv', delimiter=',')\n",
    "    vectors = np.loadtxt('./output/sample_work03_test1.csv', delimiter=',')\n",
    "    for index, vecs in enumerate(zip(vectors, ans_vectors)):\n",
    "        assert sum(vecs[0]) == sum(vecs[1]), '{}行目が違います'.format(index)"
   ]
  },
  {
   "cell_type": "code",
   "execution_count": 770,
   "metadata": {},
   "outputs": [],
   "source": [
    "answer_check_class()"
   ]
  },
  {
   "cell_type": "markdown",
   "metadata": {},
   "source": [
    "ライブラリ"
   ]
  },
  {
   "cell_type": "code",
   "execution_count": 785,
   "metadata": {},
   "outputs": [],
   "source": [
    "from library import library06\n",
    "\n",
    "def run_class_library():\n",
    "    trans = library06.trans_vector()\n",
    "    with open('./input/sample_work03.csv') as f:\n",
    "        f.readline()\n",
    "        vectors = [trans.generate_vector(line[:-1]) for line in f]\n",
    "        trans.output(vectors, './output/sample_work03_test2.csv')"
   ]
  },
  {
   "cell_type": "code",
   "execution_count": 786,
   "metadata": {},
   "outputs": [
    {
     "name": "stdout",
     "output_type": "stream",
     "text": [
      "ライブラリ読み込み\n"
     ]
    }
   ],
   "source": [
    "run_class_library()"
   ]
  },
  {
   "cell_type": "code",
   "execution_count": 787,
   "metadata": {},
   "outputs": [],
   "source": [
    "def answer_check_class():\n",
    "    ans_vectors = np.loadtxt('./output/answer_work03.csv', delimiter=',')\n",
    "    vectors = np.loadtxt('./output/sample_work03_test2.csv', delimiter=',')\n",
    "    for index, vecs in enumerate(zip(vectors, ans_vectors)):\n",
    "        assert sum(vecs[0]) == sum(vecs[1]), '{}行目が違います'.format(index)"
   ]
  },
  {
   "cell_type": "code",
   "execution_count": 788,
   "metadata": {},
   "outputs": [],
   "source": [
    "answer_check_class()"
   ]
  }
 ],
 "metadata": {
  "kernelspec": {
   "display_name": "Python 3",
   "language": "python",
   "name": "python3"
  },
  "language_info": {
   "codemirror_mode": {
    "name": "ipython",
    "version": 3
   },
   "file_extension": ".py",
   "mimetype": "text/x-python",
   "name": "python",
   "nbconvert_exporter": "python",
   "pygments_lexer": "ipython3",
   "version": "3.6.3"
  }
 },
 "nbformat": 4,
 "nbformat_minor": 2
}
