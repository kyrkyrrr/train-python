{
 "cells": [
  {
   "cell_type": "markdown",
   "metadata": {},
   "source": [
    "# 課題5\n",
    "* Q学習をスクラッチで実装する"
   ]
  },
  {
   "cell_type": "markdown",
   "metadata": {},
   "source": [
    "### Q1. Q学習について勉強する"
   ]
  },
  {
   "cell_type": "markdown",
   "metadata": {},
   "source": [
    "### Q2. 実装する\n"
   ]
  },
  {
   "cell_type": "markdown",
   "metadata": {},
   "source": [
    "### A. 以下にコードを書く"
   ]
  },
  {
   "cell_type": "code",
   "execution_count": 21,
   "metadata": {
    "collapsed": false
   },
   "outputs": [],
   "source": [
    "import numpy as np\n",
    "import random\n",
    "import matplotlib.pyplot as plt\n",
    "import subprocess\n",
    "\n",
    "MAZE = [[-1,-1,-1,-1,-1,-1,-1,-1,-1,-1],\n",
    "        [-1, 0, 0, 0, 0, 0, 0, 0, 0,-1],\n",
    "        [-1,-1,-1,-1,-1,-1,-1,-1, 0,-1],\n",
    "        [-1,-1, 0, 0, 0, 0, 0,-1, 0,-1],\n",
    "        [-1, 0,-1,-1,-1,-1,-1,-1, 0,-1],\n",
    "        [-1, 0, 0, 0, 0, 0, 0, 0, 0,-1],\n",
    "        [-1,-1,-1,-1,-1,-1,-1,-1, 0,-1],\n",
    "        [-1,-1, 0, 0, 0, 0, 0, 0, 0,-1],\n",
    "        [-1,-1, 0,-1,-1,-1,-1,-1,-1,-1],\n",
    "        [-1,-1, 0, 0, 0,-1, 0, 0, 0,-1],\n",
    "        [-1,-1,-1,-1, 0,-1,-1,-1,-1,-1],\n",
    "        [-1,-1, 0,-1, 0, 0, 0, 0,10,-1],\n",
    "        [-1,-1,-1,-1,-1,-1,-1,-1,-1,-1]]\n",
    "\n",
    "START  = (1, 1)\n",
    "ACTION = [(-1, 0), (1, 0), (0, -1), (0, 1)] # [上, 下, 左, 右]\n",
    "EPOCH  = 100000\n",
    "ALPH   = 0.1\n",
    "EPSIL  = 0.5\n",
    "RESULT = []\n",
    "\n",
    "# Q学習\n",
    "def Qlearn(Qtable, Qtable_index):\n",
    "    return\n",
    "\n",
    "# Qテーブル更新\n",
    "def update_value(now_state, next_state, now_action, reword, Qtable , flg):\n",
    "    return\n",
    "\n",
    "# εgreedy方策\n",
    "def policy_egreedy(state, Qtable, epsil):\n",
    "    return \n",
    "\n",
    "# Qテーブル生成\n",
    "def init_Qtable():\n",
    "\n",
    "# 結果の可視化\n",
    "## 1epochごとにゴールしたら1,失敗したら0を入れたresultを渡すと\n",
    "## 報酬の割合をグラフ化してくれる\n",
    "def gragh(result, epoch):  \n",
    "    x = np.arange(0, epoch, 1)\n",
    "    left = np.array(x)\n",
    "    count = 0\n",
    "    count_1 = 0\n",
    "    parcent = []\n",
    "    for i in result:\n",
    "        count += 1\n",
    "        if i == 1:\n",
    "            count_1 += 1\n",
    "        parcent.append(count_1/count)\n",
    "    height = np.array(parcent)\n",
    "    plt.plot(left, height)\n",
    "    plt.show()\n",
    "\n",
    "# 実行関数\n",
    "def run():\n"
   ]
  }
 ],
 "metadata": {
  "kernelspec": {
   "display_name": "Python 3",
   "language": "python",
   "name": "python3"
  },
  "language_info": {
   "codemirror_mode": {
    "name": "ipython",
    "version": 3
   },
   "file_extension": ".py",
   "mimetype": "text/x-python",
   "name": "python",
   "nbconvert_exporter": "python",
   "pygments_lexer": "ipython3",
   "version": "3.5.2"
  }
 },
 "nbformat": 4,
 "nbformat_minor": 2
}
