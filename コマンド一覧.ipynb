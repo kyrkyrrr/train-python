{
 "cells": [
  {
   "cell_type": "markdown",
   "metadata": {},
   "source": [
    "# コマンド一覧"
   ]
  },
  {
   "cell_type": "markdown",
   "metadata": {},
   "source": [
    "## jupyter(ipython)\n",
    "### jupyterの起動\n",
    "\n",
    "```:ターミナル\n",
    "jupyter notebook\n",
    "```\n",
    "\n",
    "このコマンドを打ったディレクトリで起動する\n",
    "\n",
    "### jupyterの停止\n",
    "\n",
    "```:ターミナル\n",
    "ctr-c\n",
    "```\n",
    "\n",
    "起動しっぱなしでも問題ないけど、停止する時は、コントール+C"
   ]
  },
  {
   "cell_type": "markdown",
   "metadata": {},
   "source": [
    "## github\n",
    "### ブラウザに反映させる方法\n",
    "* git add -A  \n",
    "リポジトリに作った全てのファイルが対象になる\n",
    "* git commmit -m \"コメント\"  \n",
    "どんな変更なのかコメントをつけたせる  \n",
    "今回は、update work名(ex. update work01)で統一  \n",
    "* git push origin master  \n",
    "この3つのコマンドでブウラザに反映できる\n",
    "\n",
    "### ブラウザの状態に更新する方法\n",
    "更新が必要な時は更新してーって言います\n",
    "* git fetch origin\n",
    "* git merge origin/master"
   ]
  },
  {
   "cell_type": "markdown",
   "metadata": {},
   "source": [
    "## Markdown記法\n",
    "各文頭に#や*をつけると段落や点など体裁を整えやすい記法  \n",
    "[Markdown 書き方]とかで調べて知っておくと便利"
   ]
  },
  {
   "cell_type": "code",
   "execution_count": null,
   "metadata": {
    "collapsed": true
   },
   "outputs": [],
   "source": []
  }
 ],
 "metadata": {
  "kernelspec": {
   "display_name": "Python 3",
   "language": "python",
   "name": "python3"
  },
  "language_info": {
   "codemirror_mode": {
    "name": "ipython",
    "version": 3
   },
   "file_extension": ".py",
   "mimetype": "text/x-python",
   "name": "python",
   "nbconvert_exporter": "python",
   "pygments_lexer": "ipython3",
   "version": "3.5.2"
  }
 },
 "nbformat": 4,
 "nbformat_minor": 2
}
