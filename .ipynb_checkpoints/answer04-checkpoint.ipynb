{
 "cells": [
  {
   "cell_type": "markdown",
   "metadata": {},
   "source": [
    "# 課題4\n",
    "* 協調フィルタリングをスクラッチで実装する\n",
    "* 評価までやってみる"
   ]
  },
  {
   "cell_type": "markdown",
   "metadata": {},
   "source": [
    "### Q1. 協調フィルタリングについて調べる"
   ]
  },
  {
   "cell_type": "markdown",
   "metadata": {},
   "source": [
    "### A. アルゴリズム理解できればおっけい"
   ]
  },
  {
   "cell_type": "markdown",
   "metadata": {},
   "source": [
    "### Q2. 実装する\n",
    "* 入力データ：input/sample_work04\n",
    "* データ内容  \n",
    "オンラインショッピング擬似データ  \n",
    "行列形式  \n",
    "縦:ユーザー数:10   \n",
    "横:アイテム数:20   \n",
    "5段階の評価値(1~5)  \n",
    "未評価(0)  \n",
    "* 協調フィルタリングを実装して未評価部分を予測する\n",
    "* output/sample_work04として出力する"
   ]
  },
  {
   "cell_type": "markdown",
   "metadata": {},
   "source": [
    "### A. 以下にコードを書く\n",
    "#### クラスで実装する\n",
    "最低限実装するpublicメソッド  \n",
    "* get_userID:全userIDを出力する\n",
    "* get_itemID:全itemIDを出力する\n",
    "* pickle_similarity:類似度をcsvで保存する\n",
    "* write_result:未評価のユーザーとアイテムの全組み合わせに対して予測を行い指定したファイル名に出力する(output/sample_work04を参考に)\n",
    "* predict_rating(引数:userID, itemID, min_sim):ユーザーIDとアイテムIDを指定して評価値を予測する,min_simは類似度の最低限の値を指定する"
   ]
  },
  {
   "cell_type": "code",
   "execution_count": 61,
   "metadata": {
    "collapsed": false
   },
   "outputs": [],
   "source": [
    "import numpy as np\n",
    "\n",
    "class CF:\n",
    "    def __init__(self):\n",
    "        self.rating_matrix = None\n",
    "        self.num_user = None\n",
    "        self.num_item = None\n",
    "        self.sim_all = []\n",
    "        self.ave_all = []\n",
    "        \n",
    "    def fit(self, rating_matrix):\n",
    "        self.rating_matrix = rating_matrix\n",
    "        self.num_user = len(rating_matrix)\n",
    "        self.num_item = len(rating_matrix[0])\n",
    "        self.__calc_similarity()\n",
    "        self.__calc_ave_rating()\n",
    "    \n",
    "    def get_userID(self):\n",
    "        return [i for i in range(len(self.rating_matrix))]\n",
    "    \n",
    "    def get_itemID(self):\n",
    "        return [i for i in range(len(self.rating_matrix[0]))]\n",
    "    \n",
    "    def pickle_similarity(self, file_name):\n",
    "        with open(file_name, 'w') as f:\n",
    "            for user in self.sim_all:\n",
    "                f.write(','.join(list(map(str, user))) + '\\n')\n",
    "    \n",
    "    def __calc_similarity(self):\n",
    "        for user_index, user_rating in enumerate(self.rating_matrix):\n",
    "            sim_list = []\n",
    "            value1 = np.linalg.norm(user_rating)\n",
    "            for index, rating in enumerate(self.rating_matrix):\n",
    "                if user_index == index:\n",
    "                    sim_list.append(0)\n",
    "                    continue\n",
    "                value2 = np.linalg.norm(rating)\n",
    "                value3 = np.dot(user_rating, rating)\n",
    "                sim_list.append(value3/(value1 * value2))\n",
    "            self.sim_all.append(sim_list)\n",
    "    \n",
    "    def __calc_ave_rating(self):\n",
    "        self.ave_all = [np.mean(list(filter(lambda x: x != 0, user))) for user in self.rating_matrix]\n",
    "    \n",
    "    def predict_rating(self, userID, itemID, min_num=0, min_sim=0.0):\n",
    "        sum_rate = 0.0\n",
    "        sum_sim = 0.0\n",
    "        min_num = min_num if min_num != 0 else self.num_user\n",
    "        for id_, (item_rate, sim) in enumerate(zip(np.array(self.rating_matrix)[:, itemID], self.sim_all[userID])):\n",
    "            if sim < min_sim: continue\n",
    "            sum_rate += (item_rate - self.ave_all[id_]) * sim\n",
    "            sum_sim += sim\n",
    "        return self.ave_all[userID] + sum_rate / sum_sim\n",
    "    \n",
    "    def write_result(self, file_name, min_sim_=0.0):\n",
    "        tmp = [[round(self.predict_rating(userID, itemID, min_sim=min_sim_)) if rate == 0 else rate for itemID, rate in enumerate(user)] for userID, user in enumerate(self.rating_matrix)]\n",
    "        with open('./output/{}'.format(file_name), 'w') as f:\n",
    "            for user in tmp:\n",
    "                f.write(','.join(list(map(str, user))) + '\\n')"
   ]
  },
  {
   "cell_type": "code",
   "execution_count": 46,
   "metadata": {
    "collapsed": false
   },
   "outputs": [
    {
     "name": "stdout",
     "output_type": "stream",
     "text": [
      "[[ 0.  0.  5.  4.  0.  4.  2.  0.  3.  5.  1.  4.  5.  3.  0.  0.  0.  3.\n",
      "   3.  0.]\n",
      " [ 5.  0.  4.  3.  0.  5.  1.  0.  2.  4.  2.  5.  5.  3.  0.  2.  0.  0.\n",
      "   0.  0.]\n",
      " [ 1.  3.  0.  0.  0.  5.  0.  1.  3.  0.  1.  4.  0.  0.  0.  1.  2.  0.\n",
      "   1.  0.]\n",
      " [ 1.  0.  0.  0.  3.  5.  0.  2.  0.  3.  2.  0.  3.  2.  2.  3.  0.  0.\n",
      "   0.  0.]\n",
      " [ 0.  0.  4.  4.  0.  4.  2.  0.  0.  5.  0.  4.  0.  0.  1.  0.  0.  2.\n",
      "   0.  0.]\n",
      " [ 1.  0.  1.  0.  0.  4.  0.  0.  0.  0.  0.  0.  2.  0.  0.  0.  3.  0.\n",
      "   0.  0.]\n",
      " [ 2.  0.  0.  0.  3.  0.  2.  1.  2.  3.  1.  4.  2.  0.  0.  0.  1.  0.\n",
      "   0.  5.]\n",
      " [ 1.  2.  0.  2.  3.  4.  1.  0.  4.  0.  1.  5.  0.  0.  0.  4.  4.  1.\n",
      "   0.  0.]\n",
      " [ 3.  0.  0.  3.  4.  0.  4.  0.  2.  3.  4.  3.  3.  1.  2.  0.  3.  0.\n",
      "   0.  0.]\n",
      " [ 0.  0.  5.  5.  0.  0.  0.  0.  3.  5.  2.  0.  5.  3.  0.  0.  0.  2.\n",
      "   1.  0.]]\n"
     ]
    }
   ],
   "source": [
    "def run():"
   ]
  }
 ],
 "metadata": {
  "kernelspec": {
   "display_name": "Python 3",
   "language": "python",
   "name": "python3"
  },
  "language_info": {
   "codemirror_mode": {
    "name": "ipython",
    "version": 3
   },
   "file_extension": ".py",
   "mimetype": "text/x-python",
   "name": "python",
   "nbconvert_exporter": "python",
   "pygments_lexer": "ipython3",
   "version": "3.5.2"
  }
 },
 "nbformat": 4,
 "nbformat_minor": 2
}
