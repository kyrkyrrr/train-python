{
 "cells": [
  {
   "cell_type": "markdown",
   "metadata": {},
   "source": [
    "# 課題4\n",
    "* 協調フィルタリングをスクラッチで実装する\n",
    "* 評価までやってみる"
   ]
  },
  {
   "cell_type": "markdown",
   "metadata": {},
   "source": [
    "### Q1. 協調フィルタリングについて調べる"
   ]
  },
  {
   "cell_type": "markdown",
   "metadata": {},
   "source": [
    "### A. アルゴリズム理解できればおっけい"
   ]
  },
  {
   "cell_type": "markdown",
   "metadata": {},
   "source": [
    "### Q2. 実装する\n",
    "* 入力データ：input/sample_work04\n",
    "* データ内容  \n",
    "オンラインショッピング擬似データ  \n",
    "行列形式  \n",
    "縦:ユーザー数:10   \n",
    "横:アイテム数:20   \n",
    "5段階の評価値(1~5)  \n",
    "未評価(0)  \n",
    "* 協調フィルタリングを実装して未評価部分を予測する\n",
    "* output/sample_work04として出力する"
   ]
  },
  {
   "cell_type": "markdown",
   "metadata": {},
   "source": [
    "### A. 以下にコードを書く\n",
    "#### クラスで実装する\n",
    "最低限実装するpublicメソッド  \n",
    "* get_userID:全userIDを出力する\n",
    "* get_itemID:全itemIDを出力する\n",
    "* pickle_similarity:類似度をcsvで保存する\n",
    "* write_result:未評価のユーザーとアイテムの全組み合わせに対して予測を行い指定したファイル名に出力する(output/sample_work04を参考に)\n",
    "* predict_rating(引数:userID, itemID, min_sim):ユーザーIDとアイテムIDを指定して評価値を予測する,min_simは類似度の最低限の値を指定する\n",
    "\n",
    "必要なら関数を追加してもよい"
   ]
  },
  {
   "cell_type": "code",
   "execution_count": null,
   "metadata": {
    "collapsed": false
   },
   "outputs": [],
   "source": [
    "class CF:\n",
    "    def __init__(self):\n",
    "    \n",
    "    def get_userID(self):\n",
    "    \n",
    "    def get_itemID(self):\n",
    "    \n",
    "    def pickle_similarity(self, file_name):\n",
    "    \n",
    "    def predict_rating(self, userID, itemID, min_sim=0.0):\n",
    "    \n",
    "    def write_result(self, file_name, min_sim_=0.0):"
   ]
  },
  {
   "cell_type": "code",
   "execution_count": null,
   "metadata": {
    "collapsed": false
   },
   "outputs": [],
   "source": [
    "def run():"
   ]
  }
 ],
 "metadata": {
  "kernelspec": {
   "display_name": "Python 3",
   "language": "python",
   "name": "python3"
  },
  "language_info": {
   "codemirror_mode": {
    "name": "ipython",
    "version": 3
   },
   "file_extension": ".py",
   "mimetype": "text/x-python",
   "name": "python",
   "nbconvert_exporter": "python",
   "pygments_lexer": "ipython3",
   "version": "3.5.2"
  }
 },
 "nbformat": 4,
 "nbformat_minor": 2
}
