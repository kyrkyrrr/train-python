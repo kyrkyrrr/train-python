{
 "cells": [
  {
   "cell_type": "markdown",
   "metadata": {},
   "source": [
    "# 課題2\n",
    "## ・入力データを加工する\n",
    "## ・クラスの書き方を知る"
   ]
  },
  {
   "cell_type": "markdown",
   "metadata": {},
   "source": [
    "### Q1-1. pythonのクラスで全ての関数に渡す引数とは？(調べて意味がわかればOKだからコピペでも可)"
   ]
  },
  {
   "cell_type": "markdown",
   "metadata": {},
   "source": [
    "### A. self"
   ]
  },
  {
   "cell_type": "markdown",
   "metadata": {},
   "source": [
    "### Q1-2. pythonのクラスのpublicとprivateの違いは？(調べて意味がわかればOKだからコピペでも可)"
   ]
  },
  {
   "cell_type": "markdown",
   "metadata": {},
   "source": [
    "### A. 外部から参照できるかどうか"
   ]
  },
  {
   "cell_type": "markdown",
   "metadata": {},
   "source": [
    "### Q2. sample_work03をUIDごとにベクトルに加工せよ"
   ]
  },
  {
   "cell_type": "markdown",
   "metadata": {},
   "source": [
    "* 入力データのカラム  \n",
    "date,UID,click,url,regionCode,city,k_page,vec\n",
    "\n",
    "* 入力データ1行  \n",
    "2016-10-02 07:25:47 UTC,c78f43460484d92831660d66818e6417b0cb39c8b6359f03906703467d99be6f,1,https://passnavi.evidus.com/search_univ/2910/ao.html,8,hitachiota,p14,0:0:0:0:1\n",
    "\n",
    "* 変換後のベクトル  \n",
    "0次元目 → click(1 or 0)  \n",
    "1次元目 → dateのmonth(10 or 11 or 12 or 13 or 1 or 2)  \n",
    "2 ~ 18次元目 → どのページかのダミー変数    \n",
    "19 ~ 118次元目 → どの町かのダミー変数  \n",
    "119次元目 → 1の個数  \n",
    "  \n",
    "[1, 10, 1, 0, 0, 0, 0, 0, 0, 0, 0, 0, 0, 0, 0, 0, 0, 0, 0, 0, 0, 0, 0, 0, 0, 0, 0, 0, 0, 0, 0, 0, 0, 0, 0, 0, 0, 0, 1, 0, 0, 0, 0, 0, 0, 0, 0, 0, 0, 0, 0, 0, 0, 0, 0, 0, 0, 0, 0, 0, 0, 0, 0, 0, 0, 0, 0, 0, 0, 0, 0, 0, 0, 0, 0, 0, 0, 0, 0, 0, 0, 0, 0, 0, 0, 0, 0, 0, 0, 0, 0, 0, 0, 0, 0, 0, 0, 0, 0, 0, 0, 0, 0, 0, 0, 0, 0, 0, 0, 0, 0, 0, 0, 0, 0, 0, 0, 0, 1]"
   ]
  },
  {
   "cell_type": "markdown",
   "metadata": {},
   "source": [
    "### A 以下にコードを書く\n",
    "* 一応、必要そうな関数のヒントを書いてあるけど、その通りに関数定義しなくても大丈夫\n",
    "* collectionsライブラリは便利だから使ってみて"
   ]
  },
  {
   "cell_type": "markdown",
   "metadata": {},
   "source": [
    "* 前処理"
   ]
  },
  {
   "cell_type": "code",
   "execution_count": 6,
   "metadata": {},
   "outputs": [],
   "source": [
    "def generate_dic():\n",
    "    html_dic = dict()\n",
    "    city_dic = dict()\n",
    "    html_sets = set()\n",
    "    city_sets = set()\n",
    "    with open('./input/sample_work03.csv') as f:\n",
    "        f.readline()\n",
    "        for line in f:\n",
    "            elements = line[:-1].split(',')\n",
    "            html = elements[3]\n",
    "            city = elements[5]\n",
    "            city_sets.add(city if city != '' else '?')\n",
    "            index = html.split('/')[5].find('.html')\n",
    "            html_sets.add(html.split('/')[5][:index])\n",
    "    for i, v in enumerate(sorted(list(city_sets))):\n",
    "        city_dic[v] = i\n",
    "    for i, v in enumerate(sorted(list(html_sets))):\n",
    "        html_dic[v] = i\n",
    "    return city_dic, html_dic"
   ]
  },
  {
   "cell_type": "markdown",
   "metadata": {},
   "source": [
    "* dateから月を抽出する関数(Ex. '2016-10-02 07:25:47 UTC' → 10, 空の場合 → 13)  \n",
    "ポイント：datetimeを使う"
   ]
  },
  {
   "cell_type": "code",
   "execution_count": 7,
   "metadata": {},
   "outputs": [],
   "source": [
    "from datetime import datetime\n",
    "\n",
    "def trans_date(element):\n",
    "    date = element.split(' ')[0]\n",
    "    return datetime.strptime(date, '%Y-%m-%d').month if date != '' else 13"
   ]
  },
  {
   "cell_type": "markdown",
   "metadata": {},
   "source": [
    "* clickをint型で返す関数(Ex.'1' → 1, 空の場合 → 0)"
   ]
  },
  {
   "cell_type": "code",
   "execution_count": 9,
   "metadata": {},
   "outputs": [],
   "source": [
    "def trans_click(element):\n",
    "    return int(element) if element != '' else 0"
   ]
  },
  {
   "cell_type": "markdown",
   "metadata": {},
   "source": [
    "* urlからページの種類をダミー変数に変換する関数  \n",
    "ページは昇順で変換する"
   ]
  },
  {
   "cell_type": "code",
   "execution_count": 10,
   "metadata": {},
   "outputs": [],
   "source": [
    "def trans_html(element, html_dic):\n",
    "    index = element.split('/')[5].find('.html')\n",
    "    number = html_dic[element.split('/')[5][:index]]\n",
    "    return trans_dummy_value(len(html_dic), number)"
   ]
  },
  {
   "cell_type": "code",
   "execution_count": 20,
   "metadata": {},
   "outputs": [
    {
     "data": {
      "text/plain": [
       "[0, 0, 0, 0, 0, 0, 0, 0, 0, 1, 0, 0, 0, 0, 0, 0, 0]"
      ]
     },
     "execution_count": 20,
     "metadata": {},
     "output_type": "execute_result"
    }
   ],
   "source": [
    "trans_html('https://passnavi.evidus.com/search_univ/2910/ippan.html',generate_dic()[1])"
   ]
  },
  {
   "cell_type": "markdown",
   "metadata": {},
   "source": [
    "* cityから町の種類をダミー変数に変換する関数  \n",
    "町名は昇順で変換する"
   ]
  },
  {
   "cell_type": "code",
   "execution_count": 11,
   "metadata": {},
   "outputs": [],
   "source": [
    "def trans_city(element, city_dic):\n",
    "    number = city_dic[element if element != '' else '?']\n",
    "    return trans_dummy_value(len(city_dic), number)"
   ]
  },
  {
   "cell_type": "markdown",
   "metadata": {},
   "source": [
    "* 5つ数字から1の個数を返す関数(Ex.'0:0:0:0:1' → 1, '1:0:1:0:0' → 2)"
   ]
  },
  {
   "cell_type": "code",
   "execution_count": 12,
   "metadata": {},
   "outputs": [],
   "source": [
    "import numpy as np\n",
    "import collections\n",
    "\n",
    "def trans_num1(element):\n",
    "    count_dict = collections.Counter(element.split(':'))\n",
    "    return count_dict['1']"
   ]
  },
  {
   "cell_type": "markdown",
   "metadata": {},
   "source": [
    "* ダミー変数に変換する関数"
   ]
  },
  {
   "cell_type": "code",
   "execution_count": 13,
   "metadata": {},
   "outputs": [],
   "source": [
    "def trans_dummy_value(num_dim, number):\n",
    "    return [1 if number == index else 0 for index in range(num_dim)]"
   ]
  },
  {
   "cell_type": "markdown",
   "metadata": {},
   "source": [
    "* ベクトルを生成する関数"
   ]
  },
  {
   "cell_type": "code",
   "execution_count": 14,
   "metadata": {},
   "outputs": [],
   "source": [
    "def generate_vector(line, city_dic, html_dic):\n",
    "    vec = []\n",
    "    elements = line.split(',')\n",
    "    vec.append(trans_click(elements[2]))\n",
    "    vec.append(trans_date(elements[0]))\n",
    "    vec.extend(trans_html(elements[3], html_dic))\n",
    "    vec.extend(trans_city(elements[5], city_dic))\n",
    "    vec.append(trans_num1(elements[7]))\n",
    "    return vec"
   ]
  },
  {
   "cell_type": "markdown",
   "metadata": {},
   "source": [
    "* ouput/sample_work03.csvに出力する関数"
   ]
  },
  {
   "cell_type": "code",
   "execution_count": 15,
   "metadata": {},
   "outputs": [],
   "source": [
    "def output(vectors):\n",
    "    with open('./output/sample_work03.csv', 'w') as f:\n",
    "        for vec in vectors:\n",
    "            f.write(','.join(list(map(str, vec))) + '\\n')"
   ]
  },
  {
   "cell_type": "markdown",
   "metadata": {},
   "source": [
    "* 実行関数"
   ]
  },
  {
   "cell_type": "code",
   "execution_count": 23,
   "metadata": {},
   "outputs": [],
   "source": [
    "def run():\n",
    "    city_dic, html_dic= generate_dic()\n",
    "    with open('./input/sample_work03.csv') as f:\n",
    "        f.readline()\n",
    "        vectors = [generate_vector(line[:-1], city_dic, html_dic) for line in f]\n",
    "        output(vectors)"
   ]
  },
  {
   "cell_type": "code",
   "execution_count": 24,
   "metadata": {},
   "outputs": [],
   "source": [
    "run()"
   ]
  },
  {
   "cell_type": "markdown",
   "metadata": {},
   "source": [
    "* 答え合わせする関数  \n",
    "    * assert文は簡単にエラーチェックできるから調べてみて"
   ]
  },
  {
   "cell_type": "code",
   "execution_count": 18,
   "metadata": {},
   "outputs": [],
   "source": [
    "def answer_check():\n",
    "    ans_vectors = np.loadtxt('./output/answer_work03.csv', delimiter=',')\n",
    "    vectors = np.loadtxt('./output/sample_work03.csv', delimiter=',')\n",
    "    for index, vecs in enumerate(zip(vectors, ans_vectors)):\n",
    "        assert sum(vecs[0]) == sum(vecs[1]), '{}行目が違います'.format(index)"
   ]
  },
  {
   "cell_type": "code",
   "execution_count": 19,
   "metadata": {},
   "outputs": [],
   "source": [
    "answer_check()"
   ]
  },
  {
   "cell_type": "markdown",
   "metadata": {},
   "source": [
    "### Q3. Q2のコードをクラス化せよ"
   ]
  },
  {
   "cell_type": "markdown",
   "metadata": {},
   "source": [
    "### A 以下にコードを書く"
   ]
  },
  {
   "cell_type": "code",
   "execution_count": 25,
   "metadata": {},
   "outputs": [
    {
     "ename": "IndentationError",
     "evalue": "expected an indented block (<ipython-input-25-dd71ebab9dd6>, line 12)",
     "output_type": "error",
     "traceback": [
      "\u001b[0;36m  File \u001b[0;32m\"<ipython-input-25-dd71ebab9dd6>\"\u001b[0;36m, line \u001b[0;32m12\u001b[0m\n\u001b[0;31m    html_dic = dict()\u001b[0m\n\u001b[0m           ^\u001b[0m\n\u001b[0;31mIndentationError\u001b[0m\u001b[0;31m:\u001b[0m expected an indented block\n"
     ]
    }
   ],
   "source": [
    "from datetime import datetime\n",
    "import numpy as np\n",
    "import collections\n",
    "\n",
    "class trans_tool:\n",
    "    def __init__(self):\n",
    "        self.__city_dic, self.__html_dic = self.__generate_dic()\n",
    "        self.__num_city = len(self.__city_dic)\n",
    "        self.__num_html = len(self.__html_dic)\n",
    "        \n",
    "    def __generate_dic(self):\n",
    "        html_dic = dict()\n",
    "        city_dic = dict()\n",
    "        html_sets = set()\n",
    "        city_sets = set()\n",
    "        with open('./input/sample_work03.csv') as f:\n",
    "            f.readline()\n",
    "            for line in f:\n",
    "                elements = line[:-1].split(',')\n",
    "                html = elements[3]\n",
    "                city = elements[5]\n",
    "                city_sets.add(city if city != '' else '?')\n",
    "                index = html.split('/')[5].find('.html')\n",
    "                html_sets.add(html.split('/')[5][:index])\n",
    "        for i, v in enumerate(sorted(list(city_sets))):\n",
    "            city_dic[v] = i\n",
    "        for i, v in enumerate(sorted(list(html_sets))):\n",
    "            html_dic[v] = i\n",
    "        return city_dic, html_dic\n",
    "    \n",
    "    def __trans_date(self, element):\n",
    "        date = element.split(' ')[0]\n",
    "        return datetime.strptime(date, '%Y-%m-%d').month if date != '' else 13\n",
    "    \n",
    "    def __trans_click(self, element):\n",
    "        return int(element) if element != '' else 0\n",
    "    \n",
    "    def __trans_html(self, element):\n",
    "        index = element.split('/')[5].find('.html')\n",
    "        number = self.__html_dic[element.split('/')[5][:index]]\n",
    "        return self.__trans_dummy_value(self.__num_html, number)\n",
    "    \n",
    "    def __trans_city(self, element):\n",
    "        number = self.__city_dic[element if element != '' else '?']\n",
    "        return self.__trans_dummy_value(self.__num_city, number)\n",
    "\n",
    "    def __trans_num1(self, element):\n",
    "        count_dict = collections.Counter(element.split(':'))\n",
    "        return count_dict['1']\n",
    "    \n",
    "    def __trans_dummy_value(self, num_dim, number):\n",
    "        return [1 if number == index else 0 for index in range(num_dim)]\n",
    "    \n",
    "    def generate_vector(self, line):\n",
    "        vec = []\n",
    "        elements = line.split(',')\n",
    "        vec.append(self.__trans_click(elements[2]))\n",
    "        vec.append(self.__trans_date(elements[0]))\n",
    "        vec.extend(self.__trans_html(elements[3]))\n",
    "        vec.extend(self.__trans_city(elements[5]))\n",
    "        vec.append(self.__trans_num1(elements[7]))\n",
    "        return vec\n",
    "    \n",
    "    def output(self, vectors, file_name):\n",
    "        with open(file_name, 'w') as f:\n",
    "            for vec in vectors:\n",
    "                f.write(','.join(list(map(str, vec))) + '\\n')"
   ]
  },
  {
   "cell_type": "code",
   "execution_count": 62,
   "metadata": {
    "collapsed": true
   },
   "outputs": [],
   "source": [
    "def run_class():\n",
    "    tool = trans_tool()\n",
    "    with open('./input/sample_work03.csv') as f:\n",
    "        f.readline()\n",
    "        vectors = [tool.generate_vector(line[:-1]) for line in f]\n",
    "        tool.output(vectors, './output/sample_work03_re.csv')"
   ]
  },
  {
   "cell_type": "code",
   "execution_count": 63,
   "metadata": {},
   "outputs": [],
   "source": [
    "run_class()"
   ]
  },
  {
   "cell_type": "code",
   "execution_count": 64,
   "metadata": {
    "collapsed": true
   },
   "outputs": [],
   "source": [
    "def answer_check_class():\n",
    "    ans_vectors = np.loadtxt('./output/answer_work03.csv', delimiter=',')\n",
    "    vectors = np.loadtxt('./output/sample_work03_re.csv', delimiter=',')\n",
    "    for index, vecs in enumerate(zip(vectors, ans_vectors)):\n",
    "        assert sum(vecs[0]) == sum(vecs[1]), '{}行目が違います'.format(index)"
   ]
  },
  {
   "cell_type": "code",
   "execution_count": 65,
   "metadata": {
    "collapsed": true
   },
   "outputs": [],
   "source": [
    "answer_check_class()"
   ]
  },
  {
   "cell_type": "markdown",
   "metadata": {},
   "source": [
    "### ちなみに\n",
    "* classで書いたコードを別ファイルにして、ライブラリちっくに扱う方法\n",
    "* 同じディレクトリ階層もしくは1つの下階層ならそのままimportできる\n",
    "* 今回はlibrary03.pyにclassで書いたコードをコピー\n",
    "* 自分で書いたclassでもためしてみて"
   ]
  },
  {
   "cell_type": "code",
   "execution_count": 91,
   "metadata": {},
   "outputs": [],
   "source": [
    "from library import library03\n",
    "\n",
    "def run_class_library():\n",
    "    tool = library03.trans_tool()\n",
    "    with open('./input/sample_work03.csv') as f:\n",
    "        f.readline()\n",
    "        vectors = [tool.generate_vector(line[:-1]) for line in f]\n",
    "        tool.output(vectors, './output/sample_work03_re2.csv')"
   ]
  },
  {
   "cell_type": "code",
   "execution_count": 93,
   "metadata": {},
   "outputs": [
    {
     "name": "stdout",
     "output_type": "stream",
     "text": [
      "ライブラリ読み込み\n"
     ]
    }
   ],
   "source": [
    "run_class_library()"
   ]
  },
  {
   "cell_type": "code",
   "execution_count": 92,
   "metadata": {
    "collapsed": true
   },
   "outputs": [],
   "source": [
    "def answer_check_class2():\n",
    "    ans_vectors = np.loadtxt('./output/answer_work03.csv', delimiter=',')\n",
    "    vectors = np.loadtxt('./output/sample_work03_re2.csv', delimiter=',')\n",
    "    for index, vecs in enumerate(zip(vectors, ans_vectors)):\n",
    "        assert sum(vecs[0]) == sum(vecs[1]), '{}行目が違います'.format(index)"
   ]
  },
  {
   "cell_type": "code",
   "execution_count": 88,
   "metadata": {
    "collapsed": true
   },
   "outputs": [],
   "source": [
    "answer_check_class2()"
   ]
  }
 ],
 "metadata": {
  "kernelspec": {
   "display_name": "Python 3",
   "language": "python",
   "name": "python3"
  },
  "language_info": {
   "codemirror_mode": {
    "name": "ipython",
    "version": 3
   },
   "file_extension": ".py",
   "mimetype": "text/x-python",
   "name": "python",
   "nbconvert_exporter": "python",
   "pygments_lexer": "ipython3",
   "version": "3.6.3"
  }
 },
 "nbformat": 4,
 "nbformat_minor": 2
}
