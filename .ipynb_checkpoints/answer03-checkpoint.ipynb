{
 "cells": [
  {
   "cell_type": "markdown",
   "metadata": {},
   "source": [
    "# 課題2\n",
    "## ・入力データを加工する\n",
    "## ・クラスの書き方を知る"
   ]
  },
  {
   "cell_type": "markdown",
   "metadata": {},
   "source": [
    "### Q1. pythonのクラスで全ての関数に渡す引数とは？(調べて意味がわかればOKだからコピペでも可)"
   ]
  },
  {
   "cell_type": "markdown",
   "metadata": {},
   "source": [
    "### A."
   ]
  },
  {
   "cell_type": "markdown",
   "metadata": {},
   "source": [
    "### Q2. sample_work03をUIDごとにベクトルに加工せよ"
   ]
  },
  {
   "cell_type": "code",
   "execution_count": 2,
   "metadata": {
    "collapsed": false
   },
   "outputs": [
    {
     "name": "stdout",
     "output_type": "stream",
     "text": [
      "date,UID,click_time,univ_name,creid,ad_spot,isClick,remoteAddr,userAgent,title,LID,url,c,h,country,regionCode,city,k_page,k_gakubu,referer,isNewUser,k_dcode\n",
      "\n",
      "2017-01-25 15:55:10 UTC,f1c72c08-756b-4d9c-b066-f0477741eed3,,東洋大学,,,,182.251.71.79,\"Mozilla/5.0 (iPhone; CPU iPhone OS 10_2 like Mac OS X) AppleWebKit/602.3.12 (KHTML, like Gecko) Mobile/14C92 YJApp-IOS jp.co.yahoo.ipn.appli/4.6.14\",東洋大学/AO入試概要｜大学受験パスナビ：旺文社,\"\",https://passnavi.evidus.com/search_univ/2910/ao.html,f1c72c08-756b-4d9c-b066-f0477741eed3,passnavi.evidus.com,JP,13,shinjuku,p09, ,https://passnavi.evidus.com/search_univ/2910/campus.html,false,D2910\n",
      "\n"
     ]
    }
   ],
   "source": [
    "with open('./input/sample_work03.csv') as f:\n",
    "    for index, line in enumerate(f):\n",
    "        print(line)\n",
    "        if index == 1: break"
   ]
  },
  {
   "cell_type": "markdown",
   "metadata": {},
   "source": [
    "### A 以下にコードを書く"
   ]
  },
  {
   "cell_type": "code",
   "execution_count": null,
   "metadata": {
    "collapsed": false
   },
   "outputs": [],
   "source": []
  },
  {
   "cell_type": "markdown",
   "metadata": {},
   "source": [
    "### Q3. Q2のコードをクラス化せよ"
   ]
  },
  {
   "cell_type": "markdown",
   "metadata": {},
   "source": [
    "### A 以下にコードを書く"
   ]
  },
  {
   "cell_type": "code",
   "execution_count": null,
   "metadata": {
    "collapsed": true
   },
   "outputs": [],
   "source": []
  }
 ],
 "metadata": {
  "kernelspec": {
   "display_name": "Python 3",
   "language": "python",
   "name": "python3"
  },
  "language_info": {
   "codemirror_mode": {
    "name": "ipython",
    "version": 3
   },
   "file_extension": ".py",
   "mimetype": "text/x-python",
   "name": "python",
   "nbconvert_exporter": "python",
   "pygments_lexer": "ipython3",
   "version": "3.5.2"
  }
 },
 "nbformat": 4,
 "nbformat_minor": 2
}
