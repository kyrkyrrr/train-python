{
 "cells": [
  {
   "cell_type": "code",
   "execution_count": 56,
   "metadata": {},
   "outputs": [
    {
     "ename": "SyntaxError",
     "evalue": "invalid syntax (<ipython-input-56-247b2e8f1f72>, line 75)",
     "output_type": "error",
     "traceback": [
      "\u001b[0;36m  File \u001b[0;32m\"<ipython-input-56-247b2e8f1f72>\"\u001b[0;36m, line \u001b[0;32m75\u001b[0m\n\u001b[0;31m    if __name__=='__main__';\u001b[0m\n\u001b[0m                           ^\u001b[0m\n\u001b[0;31mSyntaxError\u001b[0m\u001b[0;31m:\u001b[0m invalid syntax\n"
     ]
    }
   ],
   "source": [
    "import time\n",
    "import numpy as np\n",
    "s = time.time()\n",
    "\n",
    "u_l = []\n",
    "s_l = []\n",
    "sim = []\n",
    "count = 0\n",
    "\n",
    "f = open('./input/sample_work01.csv')\n",
    "for line in f:\n",
    "    if count != 100:\n",
    "        u_l.append(line[:-1])\n",
    "    else:\n",
    "        break\n",
    "    count = count + 1\n",
    "\n",
    "v = []\n",
    "def vector(a,u):\n",
    "    v = u.split(',')\n",
    "    vv = 0\n",
    "    for i in range(len(a)):\n",
    "        vv = vv + float(v[i]) * float(v[i])\n",
    "    vv = np.sqrt(vv)\n",
    "    return vv\n",
    "        \n",
    "c1 = 0\n",
    "for u in u_l:\n",
    "    sim2 = []\n",
    "    vv1 = vector(u_l,u)\n",
    "    c2 = 0\n",
    "    for up in u_l:\n",
    "        vv2 = 0\n",
    "        vv3 = 0\n",
    "        if c1 != c2:\n",
    "            v2 = up.split(',')\n",
    "            for i in range(len(u_l)):\n",
    "                vv2 = vv2 + float(v2[i]) * float(v2[i])\n",
    "                vv3 = vv3 + float(v1[i]) * float(v2[i])\n",
    "            vv2 = np.sqrt(vv2)\n",
    "        else:\n",
    "            sim2.append('UID[' + str(c1) + ']')\n",
    "            c2 = c2 + 1\n",
    "            continue\n",
    "        up = vv3\n",
    "        down = vv1 * vv2\n",
    "        sim2.append(up/down)\n",
    "        c2 = c2 + 1\n",
    "    c1 = c1 + 1\n",
    "    sim.append(sim2)\n",
    "\n",
    "for i in range(len(sim)):\n",
    "    v_l = []\n",
    "    i_l = []\n",
    "    for co in range(10):\n",
    "        ind = 0\n",
    "        ma = 0\n",
    "        for j in range(len(sim[i])):\n",
    "            if i != j:\n",
    "                if sim[i][j] > ma:\n",
    "                    ma = sim[i][j]\n",
    "                    ind = j\n",
    "            else:\n",
    "                continue\n",
    "        sim[i][ind] = 0\n",
    "        v_l.append(ma)\n",
    "        i_l.append(ind)\n",
    "    if i < 10:\n",
    "        print(v_l)\n",
    "        print(i_l)\n",
    "\n",
    "\n",
    "\n",
    "        \n",
    "if __name__=='__main__':\n",
    "    start = time.time()\n",
    "    run()\n",
    "    e = time.time()\n",
    "    print(str(e-s) + 'sec')"
   ]
  },
  {
   "cell_type": "code",
   "execution_count": null,
   "metadata": {},
   "outputs": [],
   "source": []
  }
 ],
 "metadata": {
  "kernelspec": {
   "display_name": "Python 3",
   "language": "python",
   "name": "python3"
  },
  "language_info": {
   "codemirror_mode": {
    "name": "ipython",
    "version": 3
   },
   "file_extension": ".py",
   "mimetype": "text/x-python",
   "name": "python",
   "nbconvert_exporter": "python",
   "pygments_lexer": "ipython3",
   "version": "3.5.2"
  }
 },
 "nbformat": 4,
 "nbformat_minor": 2
}
