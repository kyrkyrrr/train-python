{
 "cells": [
  {
   "cell_type": "code",
   "execution_count": 1,
   "metadata": {},
   "outputs": [
    {
     "name": "stdout",
     "output_type": "stream",
     "text": [
      "hello\n"
     ]
    }
   ],
   "source": [
    "print('hello')"
   ]
  },
  {
   "cell_type": "code",
   "execution_count": 3,
   "metadata": {},
   "outputs": [],
   "source": [
    "a = \"ko\""
   ]
  },
  {
   "cell_type": "code",
   "execution_count": 2,
   "metadata": {},
   "outputs": [
    {
     "name": "stdout",
     "output_type": "stream",
     "text": [
      "sample\n",
      "{'sentences': [{'dependencies': [['poss', 'friend', 'My'], ['poss', 'birthday', 'friend'], ['nsubj', 'is', 'birthday'], ['root', 'ROOT', 'is'], ['tmod', 'is', 'today']], 'parsetree': \"(ROOT (S (NP (NP (PRP$ My) (NN friend) (POS 's)) (NN birthday)) (VP (VBZ is) (NP-TMP (NN today)))))\", 'words': [['My', {'CharacterOffsetEnd': '2', 'CharacterOffsetBegin': '0', 'PartOfSpeech': 'PRP$', 'Lemma': 'my', 'NamedEntityTag': 'O'}], ['friend', {'CharacterOffsetEnd': '9', 'CharacterOffsetBegin': '3', 'PartOfSpeech': 'NN', 'Lemma': 'friend', 'NamedEntityTag': 'O'}], [\"'s\", {'CharacterOffsetEnd': '11', 'CharacterOffsetBegin': '9', 'PartOfSpeech': 'POS', 'Lemma': \"'s\", 'NamedEntityTag': 'O'}], ['birthday', {'CharacterOffsetEnd': '20', 'CharacterOffsetBegin': '12', 'PartOfSpeech': 'NN', 'Lemma': 'birthday', 'NamedEntityTag': 'O'}], ['is', {'CharacterOffsetEnd': '23', 'CharacterOffsetBegin': '21', 'PartOfSpeech': 'VBZ', 'Lemma': 'be', 'NamedEntityTag': 'O'}], ['today', {'CharacterOffsetEnd': '29', 'CharacterOffsetBegin': '24', 'Timex': '<TIMEX3 alt_value=\"THIS P1D\" anchorTimeID=\"t0\" temporalFunction=\"true\" tid=\"t1\" type=\"DATE\" valueFromFunction=\"tf0\">today</TIMEX3>', 'PartOfSpeech': 'NN', 'NamedEntityTag': 'DATE', 'NormalizedNamedEntityTag': 'THIS', 'Lemma': 'today'}]], 'text': \"My friend's birthday is today\", 'indexeddependencies': [['poss', 'friend-2', 'My-1'], ['poss', 'birthday-4', 'friend-2'], ['nsubj', 'is-5', 'birthday-4'], ['root', 'ROOT-0', 'is-5'], ['tmod', 'is-5', 'today-6']]}]}\n"
     ]
    }
   ],
   "source": [
    "# coding:utf-8\n",
    "import json\n",
    "import corenlp\n",
    "\n",
    "print(\"sample\")\n",
    "\n",
    "# パーサの生成\n",
    "corenlp_dir = \"/Users/wsl-user/Desktop/Anything/stanford-corenlp-full-2013-06-20/\"\n",
    "parser = corenlp.StanfordCoreNLP(corenlp_path=corenlp_dir)\n",
    "\n",
    "# パースして結果をpretty print\n",
    "result_json = json.loads(parser.parse(\"My friend's birthday is today\"))\n",
    "print(result_json)"
   ]
  },
  {
   "cell_type": "code",
   "execution_count": 5,
   "metadata": {},
   "outputs": [
    {
     "name": "stdout",
     "output_type": "stream",
     "text": [
      "ko\n"
     ]
    }
   ],
   "source": [
    "print(a)"
   ]
  },
  {
   "cell_type": "code",
   "execution_count": 6,
   "metadata": {},
   "outputs": [],
   "source": [
    "def test():\n",
    "    print(\"asd\")"
   ]
  },
  {
   "cell_type": "code",
   "execution_count": 9,
   "metadata": {},
   "outputs": [
    {
     "name": "stdout",
     "output_type": "stream",
     "text": [
      "asd\n"
     ]
    }
   ],
   "source": [
    "test()"
   ]
  },
  {
   "cell_type": "code",
   "execution_count": 8,
   "metadata": {},
   "outputs": [
    {
     "name": "stdout",
     "output_type": "stream",
     "text": [
      "a\n"
     ]
    }
   ],
   "source": [
    "print(\"a\")"
   ]
  },
  {
   "cell_type": "code",
   "execution_count": null,
   "metadata": {},
   "outputs": [],
   "source": []
  }
 ],
 "metadata": {
  "kernelspec": {
   "display_name": "Python 3",
   "language": "python",
   "name": "python3"
  },
  "language_info": {
   "codemirror_mode": {
    "name": "ipython",
    "version": 3
   },
   "file_extension": ".py",
   "mimetype": "text/x-python",
   "name": "python",
   "nbconvert_exporter": "python",
   "pygments_lexer": "ipython3",
   "version": "3.5.2"
  }
 },
 "nbformat": 4,
 "nbformat_minor": 2
}
