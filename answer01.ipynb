{
 "cells": [
  {
   "cell_type": "markdown",
   "metadata": {},
   "source": [
    "#  解答1"
   ]
  },
  {
   "cell_type": "markdown",
   "metadata": {},
   "source": [
    "### Q1.リファクタリングとは？(調べて意味がわかればOKだからコピペでも可)"
   ]
  },
  {
   "cell_type": "markdown",
   "metadata": {},
   "source": [
    "### A. コードをきれいに書き直すこと"
   ]
  },
  {
   "cell_type": "markdown",
   "metadata": {},
   "source": [
    "### Q2.以下のコードをリファクタリングする\n",
    "* 関数,変数の命名を気をつける\n",
    "* 可読性を重視する\n",
    "* 実行関数runを作る\n",
    "* 追加importはしない"
   ]
  },
  {
   "cell_type": "code",
   "execution_count": 20,
   "metadata": {
    "collapsed": false
   },
   "outputs": [],
   "source": [
    "import time\n",
    "\n",
    "\n",
    "def read_sample():\n",
    "    user_list = []\n",
    "    with open('./input/sample_work01.csv') as f:\n",
    "        for index, line in enumerate(f):\n",
    "            # map関数調べてみるといいよ\n",
    "            user_list.append(list(map(float, line[:-1].split(','))))\n",
    "            if index == 100: break\n",
    "    return user_list\n",
    "\n",
    "def calc_cossim(value_sq1, value_sq2, value_dot):\n",
    "    return value_dot / (value_sq1 * value_sq2)\n",
    "\n",
    "def calc_similarity(user_list):\n",
    "    sim_list_all = []\n",
    "    for target_index, target_vec in enumerate(user_list):\n",
    "        sim_list = []\n",
    "        target_value_sq = 0.0\n",
    "        for val in target_vec:\n",
    "            target_value_sq += val**2\n",
    "        import numpy as np\n",
    "        target_value = np.sqrt(target_value_sq)\n",
    "        \n",
    "        for index, vec in enumerate(user_list):\n",
    "            if index == target_index:\n",
    "                sim_list.append(0)\n",
    "                continue\n",
    "            value_sq = 0.0\n",
    "            value_dot = 0.0\n",
    "            for ind, val in enumerate(vec):\n",
    "                value_sq += val**2\n",
    "                value_dot += target_vec[ind] * val\n",
    "            value = np.sqrt(value_sq)\n",
    "            sim_list.append(calc_cossim(target_value, value, value_dot))\n",
    "            \n",
    "        sim_list_all.append(sim_list)\n",
    "    return sim_list_all\n",
    "\n",
    "def output_top10(sim_list_all):\n",
    "    for index, sim_list in enumerate(sim_list_all):\n",
    "        if index == 10:　break\n",
    "        sorted_sim_list = sorted(sim_list, reverse=True)\n",
    "        print(sorted_sim_list[:10])\n",
    "                    \n",
    "def run():\n",
    "    start = time.time()\n",
    "    sample_data = read_sample()\n",
    "    sim_list_all = calc_similarity(sample_data)\n",
    "    output_top10(sim_list_all)\n",
    "    print('{}sec'.format(time.time() - start))"
   ]
  },
  {
   "cell_type": "code",
   "execution_count": 21,
   "metadata": {
    "collapsed": false
   },
   "outputs": [
    {
     "name": "stdout",
     "output_type": "stream",
     "text": [
      "[0.58395458496801267, 0.49942346834540619, 0.45682392754962958, 0.45419169576689944, 0.43201751649840003, 0.42268209969321924, 0.4108227175129836, 0.38348763307414441, 0.37457569507242439, 0.37421123150409391]\n",
      "[0.56867499216044348, 0.49252692503655859, 0.42025746103174422, 0.37620024568724109, 0.36919163706881475, 0.35542315801221475, 0.35446644140462819, 0.33241760285664318, 0.30905225205766246, 0.3009272571892716]\n",
      "[0.31182612188394138, 0.24869248650250445, 0.16682565274643432, 0.15078543604188924, 0.14636447385571622, 0.14590871235547354, 0.13985718745011866, 0.10454846663793051, 0.1026556261813059, 0.097060377092403949]\n",
      "[0.61209344902550678, 0.47757726117882349, 0.42765698915318456, 0.4048870958651597, 0.33169088706334854, 0.31887298660805719, 0.31327992403273458, 0.30656709817809397, 0.28042525690080128, 0.27386138723957248]\n",
      "[0.63129440982539364, 0.39389217908953961, 0.3937865171961209, 0.32790902973335195, 0.31785328917319849, 0.30020740346646635, 0.29790924396228047, 0.29288462534561371, 0.28914588754135356, 0.25033644169327757]\n",
      "[0.9651893542846619, 0.8908023021229049, 0.87971908372418595, 0.83139175810282118, 0.62365861979383408, 0.57660285654661392, 0.56931954968047938, 0.53115032760251157, 0.49777278858804086, 0.49681604897502368]\n",
      "[0.56481460447461607, 0.47805986426420849, 0.43622738753517781, 0.37054176146999035, 0.35608583632633345, 0.35485096649011966, 0.29275368907680932, 0.29171684978035739, 0.28453353356490452, 0.27216821403702257]\n",
      "[0.90520868486721318, 0.8996298325502855, 0.87971908372418595, 0.87642385991031191, 0.87470630298118512, 0.76684357799432556, 0.74085167649671824, 0.69296736499091593, 0.68359004868951356, 0.60166521824052388]\n",
      "[0.71338148060737006, 0.68725265599097973, 0.59658864671847611, 0.54473731109094048, 0.52443734329086134, 0.51905606043443597, 0.4912552680437835, 0.41410363628214486, 0.35488413020785337, 0.34183591096441779]\n",
      "[0.61209344902550678, 0.53892780402953411, 0.49566509486718513, 0.43348753627799075, 0.39027195467503084, 0.36720755279220052, 0.31133383603094755, 0.29275368907680932, 0.2773573916691372, 0.27531272814557473]\n",
      "0.23932790756225586sec\n"
     ]
    }
   ],
   "source": [
    "run()"
   ]
  },
  {
   "cell_type": "markdown",
   "metadata": {},
   "source": [
    "### Q3.このコードは何のアルゴリズムでしょう(任意)"
   ]
  },
  {
   "cell_type": "markdown",
   "metadata": {},
   "source": [
    "### A. コサイン類似度のtop10を出力する"
   ]
  }
 ],
 "metadata": {
  "kernelspec": {
   "display_name": "Python 3",
   "language": "python",
   "name": "python3"
  },
  "language_info": {
   "codemirror_mode": {
    "name": "ipython",
    "version": 3
   },
   "file_extension": ".py",
   "mimetype": "text/x-python",
   "name": "python",
   "nbconvert_exporter": "python",
   "pygments_lexer": "ipython3",
   "version": "3.5.2"
  }
 },
 "nbformat": 4,
 "nbformat_minor": 2
}
