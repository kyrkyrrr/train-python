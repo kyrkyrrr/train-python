{
 "cells": [
  {
   "cell_type": "code",
   "execution_count": null,
   "metadata": {},
   "outputs": [],
   "source": [
    "import time\n",
    "import numpy as np\n",
    "\n",
    "def input_sample():\n",
    "    u_list = np.loadtxt('./input/sample_work01.csv', delimiter=',')\n",
    "    u_list = u_list[0:100]\n",
    "    return u_list\n",
    "\n",
    "def cal_vector(u_list):\n",
    "    sim_all = []\n",
    "    for u_index,u_vector in enumerate(u_list):\n",
    "        sim_list = []\n",
    "        value1 = vector(u_vector)\n",
    "        for up_index,up_vector in enumerate(u_list):\n",
    "            if u_index == up_index:\n",
    "                sim_list.append(0)\n",
    "                continue\n",
    "            value2 = vector(up_vector)\n",
    "            value3 = product(u_vector, up_vector)\n",
    "            sim_list.append(value3/(value1 * value2))\n",
    "        sim_all.append(sim_list)\n",
    "        \n",
    "    return sim_all        \n",
    "            \n",
    "def vector(u_vector):\n",
    "    vv = 0\n",
    "    for vec in u_vector:\n",
    "        vv += float(vec)**2\n",
    "    return np.sqrt(vv)\n",
    "\n",
    "def product(u_vector,up_vector):\n",
    "    vv2 = 0\n",
    "    for u_index,u_value in enumerate(u_vector):\n",
    "        vv2 += float(u_value) * float(up_vector[u_index])\n",
    "    return vv2\n",
    "\n",
    "def output_top10(sim):\n",
    "    for index, sim_list in enumerate(sim):\n",
    "        if index == 10: break\n",
    "        print(sorted(sim_list, reverse=True)[:10])\n",
    "\n",
    "def run():\n",
    "    u_list = input_sample()\n",
    "    sim = cal_vector(u_list)\n",
    "    output_top10(sim)\n",
    "    \n",
    "if __name__=='__main__':\n",
    "    start = time.time()\n",
    "    run()\n",
    "    print('{}sec'.format(time.time()-start))"
   ]
  },
  {
   "cell_type": "code",
   "execution_count": null,
   "metadata": {},
   "outputs": [],
   "source": [
    "run()"
   ]
  }
 ],
 "metadata": {
  "kernelspec": {
   "display_name": "Python 3",
   "language": "python",
   "name": "python3"
  },
  "language_info": {
   "codemirror_mode": {
    "name": "ipython",
    "version": 3
   },
   "file_extension": ".py",
   "mimetype": "text/x-python",
   "name": "python",
   "nbconvert_exporter": "python",
   "pygments_lexer": "ipython3",
   "version": "3.6.3"
  }
 },
 "nbformat": 4,
 "nbformat_minor": 2
}
